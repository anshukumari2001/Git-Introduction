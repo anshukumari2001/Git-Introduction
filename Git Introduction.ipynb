{
 "cells": [
  {
   "cell_type": "markdown",
   "metadata": {},
   "source": [
    "# Git theory and it's commands"
   ]
  },
  {
   "cell_type": "markdown",
   "metadata": {},
   "source": [
    "There are various platform where we share or uploads the files . Most cmmonly used platforms are Github,Bitbucket and Gitlab. Git provide us the facility to upload our codes on Github,Bitbucket ,Gitlab using git command."
   ]
  },
  {
   "cell_type": "markdown",
   "metadata": {},
   "source": [
    "1. pwd (print working directory)---This command give the current working directoy "
   ]
  },
  {
   "cell_type": "markdown",
   "metadata": {},
   "source": [
    "2. ls (list all the files that are present in the directory)"
   ]
  },
  {
   "cell_type": "markdown",
   "metadata": {},
   "source": [
    "3. ls -la (It also list the files and shows various read write command )"
   ]
  },
  {
   "cell_type": "markdown",
   "metadata": {},
   "source": [
    "4. mkdir tensorflow (this command is use to make new directory) "
   ]
  },
  {
   "cell_type": "markdown",
   "metadata": {},
   "source": [
    "5. rm -rf tensorflow/ (This command remove the directory recursively)"
   ]
  },
  {
   "cell_type": "markdown",
   "metadata": {},
   "source": [
    "6. clear (This command is use to clear all the things that  is done previously)"
   ]
  },
  {
   "cell_type": "markdown",
   "metadata": {},
   "source": [
    "7. exit (This command is use to exit from the git bash)"
   ]
  },
  {
   "cell_type": "markdown",
   "metadata": {},
   "source": [
    "### Git commands to push any folder or files into github "
   ]
  },
  {
   "cell_type": "markdown",
   "metadata": {},
   "source": [
    "1. git init (create an empty repository and initialise it )"
   ]
  },
  {
   "cell_type": "markdown",
   "metadata": {},
   "source": [
    "2. git add . (add the folder contaning all the files )"
   ]
  },
  {
   "cell_type": "markdown",
   "metadata": {},
   "source": [
    "3. git commit -m \"codes\" ( commit is use to find the particular changes )  "
   ]
  },
  {
   "cell_type": "markdown",
   "metadata": {},
   "source": [
    "4. git remote add origin https://github.com/anshukumari2001/COVID19-PREDICTION-INDIA.git (this command make connections between our folder and github new repository)"
   ]
  },
  {
   "cell_type": "markdown",
   "metadata": {},
   "source": [
    "5. git push -u origin master (this command cause final push)"
   ]
  }
 ],
 "metadata": {
  "kernelspec": {
   "display_name": "Python 3",
   "language": "python",
   "name": "python3"
  },
  "language_info": {
   "codemirror_mode": {
    "name": "ipython",
    "version": 3
   },
   "file_extension": ".py",
   "mimetype": "text/x-python",
   "name": "python",
   "nbconvert_exporter": "python",
   "pygments_lexer": "ipython3",
   "version": "3.7.4"
  }
 },
 "nbformat": 4,
 "nbformat_minor": 2
}
